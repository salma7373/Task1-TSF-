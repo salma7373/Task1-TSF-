{
 "cells": [
  {
   "cell_type": "code",
   "execution_count": 1,
   "id": "39607e6a",
   "metadata": {},
   "outputs": [],
   "source": [
    "import numpy as np\n",
    "import pandas as pd\n",
    "import matplotlib.pyplot as plt\n",
    "from sklearn.model_selection import train_test_split\n",
    "from sklearn.linear_model import LinearRegression"
   ]
  },
  {
   "cell_type": "code",
   "execution_count": 2,
   "id": "8ac9b9f0",
   "metadata": {},
   "outputs": [],
   "source": [
    "url = \"http://bit.ly/w-data\"\n",
    "data = pd.read_csv(url)\n"
   ]
  },
  {
   "cell_type": "code",
   "execution_count": 3,
   "id": "496ee56b",
   "metadata": {},
   "outputs": [
    {
     "data": {
      "image/png": "[encoded data removed]",
      "text/plain": [
       "<Figure size 432x288 with 1 Axes>"
      ]
     },
     "metadata": {
      "needs_background": "light"
     },
     "output_type": "display_data"
    }
   ],
   "source": [
    "x= pd.get_dummies(data.iloc[:, :-1], drop_first= True).values\n",
    "y = data.iloc[:, 1].values\n",
    "data.plot(x='Hours', y='Scores', style='o')\n",
    "plt.title('Hours vs percentage')\n",
    "plt.xlabel('Hours studied')\n",
    "plt.ylabel('percentage Score')\n",
    "plt.show()\n"
   ]
  },
  {
   "cell_type": "code",
   "execution_count": 5,
   "id": "4a53e8eb",
   "metadata": {},
   "outputs": [],
   "source": [
    "x_train, x_test, y_train, y_test = train_test_split(x, y, train_size=0.2, random_state = 0)\n",
    "from  sklearn.linear_model import LinearRegression\n",
    "model = LinearRegression()\n",
    "model.fit(x_train, y_train)\n",
    "y_pred= model.predict(x_test)\n"
   ]
  },
  {
   "cell_type": "code",
   "execution_count": 6,
   "id": "a2eccbb3",
   "metadata": {},
   "outputs": [
    {
     "data": {
      "image/png": "[encoded data removed]",
      "text/plain": [
       "<Figure size 432x288 with 1 Axes>"
      ]
     },
     "metadata": {
      "needs_background": "light"
     },
     "output_type": "display_data"
    }
   ],
   "source": [
    "%matplotlib inline\n",
    "line = model.coef_*x+model.intercept_\n",
    "plt.scatter(x, y)\n",
    "plt.plot(x, line);\n",
    "plt.show()\n"
   ]
  },
  {
   "cell_type": "code",
   "execution_count": 7,
   "id": "09cc3898",
   "metadata": {},
   "outputs": [
    {
     "name": "stdout",
     "output_type": "stream",
     "text": [
      "Mean Absolute Error: 5.335035442373328\n"
     ]
    }
   ],
   "source": [
    "from sklearn import metrics  \n",
    "print('Mean Absolute Error:', \n",
    "      metrics.mean_absolute_error(y_test, y_pred)) \n",
    "df = pd.DataFrame({'Actual': y_test, 'predicted':y_pred})\n",
    "def calc(slope, intercept, hours):\n",
    "    return slope*hours+intercept\n"
   ]
  },
  {
   "cell_type": "code",
   "execution_count": 8,
   "id": "f8d55162",
   "metadata": {},
   "outputs": [
    {
     "name": "stdout",
     "output_type": "stream",
     "text": [
      "[91.77448149]\n",
      "[91.77448149]\n"
     ]
    }
   ],
   "source": [
    "score = calc(model.coef_, model.intercept_, 9.25)\n",
    "print(score) \n",
    "score = model.predict([[9.25]])\n",
    "print(score) \n"
   ]
  },
  {
   "cell_type": "code",
   "execution_count": 9,
   "id": "0ded1d75",
   "metadata": {},
   "outputs": [
    {
     "name": "stdout",
     "output_type": "stream",
     "text": [
      "    Actual  Predicted\n",
      "0       20  13.196114\n",
      "1       27  30.432659\n",
      "2       69  73.017065\n",
      "3       30  23.335259\n",
      "4       62  57.808349\n",
      "5       35  36.516146\n",
      "6       24  17.251772\n",
      "7       86  77.072722\n",
      "8       76  67.947493\n",
      "9       17   9.140457\n",
      "10      47  49.697033\n",
      "11      85  76.058808\n",
      "12      42  31.446574\n",
      "13      81  82.142295\n",
      "14      88  91.267524\n",
      "15      67  59.836177\n",
      "16      30  33.474403\n",
      "17      25  25.363087\n",
      "18      60  53.752691\n",
      "19      30  25.363087\n"
     ]
    }
   ],
   "source": [
    "y_pred = model.predict(x_test)\n",
    "df_preds = pd.DataFrame({'Actual': y_test.squeeze(), 'Predicted': y_pred.squeeze()})\n",
    "print(df_preds)\n"
   ]
  },
  {
   "cell_type": "code",
   "execution_count": 10,
   "id": "79201564",
   "metadata": {},
   "outputs": [
    {
     "data": {
      "text/plain": [
       "array([91.77448149])"
      ]
     },
     "execution_count": 10,
     "metadata": {},
     "output_type": "execute_result"
    }
   ],
   "source": [
    "model.predict([[9.25]])\n",
    "y_pred = model.predict([[9.25]])\n",
    "y_pred"
   ]
  }
 ],
 "metadata": {
  "kernelspec": {
   "display_name": "Python 3",
   "language": "python",
   "name": "python3"
  },
  "language_info": {
   "codemirror_mode": {
    "name": "ipython",
    "version": 3
   },
   "file_extension": ".py",
   "mimetype": "text/x-python",
   "name": "python",
   "nbconvert_exporter": "python",
   "pygments_lexer": "ipython3",
   "version": "3.8.8"
  }
 },
 "nbformat": 4,
 "nbformat_minor": 5
}
